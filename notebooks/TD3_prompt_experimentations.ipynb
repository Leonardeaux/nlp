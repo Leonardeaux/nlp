{
 "cells": [
  {
   "cell_type": "markdown",
   "metadata": {},
   "source": [
    "I have video names, can you tell me if the name sound comic or not, and the person that are involved in this video :\n",
    "\n",
    "Le Barbecue Disney - La chanson de Frédéric Fromet"
   ]
  },
  {
   "cell_type": "markdown",
   "metadata": {},
   "source": [
    "The video title \"Le Barbecue Disney - La chanson de Frédéric Fromet\" seems to suggest a comedic tone, especially with the mention of Disney and the term \"chanson\" (which means song in French). However, without additional context, it's challenging to provide a definitive answer.\n",
    "\n",
    "As for the person involved, the video features Frédéric Fromet. Frédéric Fromet is a French singer and humorist known for his humorous and satirical songs. If this video is in line with his usual style, it is likely to have a comedic element."
   ]
  },
  {
   "cell_type": "markdown",
   "metadata": {},
   "source": [
    "I have video names, can you tell me if the name sound comic or not, and the person that are involved in this video :\n",
    "\n",
    "video name : \"\"\"\n",
    "Le Barbecue Disney - La chanson de Frédéric Fromet\n",
    "\"\"\""
   ]
  },
  {
   "cell_type": "markdown",
   "metadata": {},
   "source": [
    "The video title \"Le Barbecue Disney - La chanson de Frédéric Fromet\" sounds like it could have a comedic element, especially considering the mention of Disney. However, without additional context or information about the content of the video, it's challenging to provide a definitive answer.\n",
    "\n",
    "As for the person involved, \"Frédéric Fromet\" appears to be mentioned in the title. Frédéric Fromet is a French singer and humorist known for his satirical songs and performances. If this is one of his works, it likely has a comedic and musical aspect to it."
   ]
  },
  {
   "cell_type": "markdown",
   "metadata": {},
   "source": [
    "I have a text splited in two differents parts separated by an union. The first one is a video name, and the second one is the artwork where the video comes from. First, can you tell me the name of the people involved in the video, then can you find out if the name of the video sounds comic ? \n",
    "\n",
    "video name : \"\"\"\n",
    "Le Barbecue Disney - La chanson de Frédéric Fromet\n",
    "\"\"\""
   ]
  },
  {
   "cell_type": "markdown",
   "metadata": {},
   "source": [
    "\n",
    "It looks like the video name you provided is \"Le Barbecue Disney - La chanson de Frédéric Fromet.\" From this, we can identify that the video involves a song by Frédéric Fromet related to a Disney barbecue.\n",
    "\n",
    "As for determining if the name of the video sounds comic, it largely depends on the context and the content of the video. In this case, the combination of \"Disney\" and \"barbecue\" with the addition of \"La chanson de Frédéric Fromet\" (which translates to \"The song of Frédéric Fromet\") suggests a potentially humorous or light-hearted tone. Frédéric Fromet is known for his comedic songs, often featuring satirical and humorous elements.\n",
    "\n",
    "Without specific details about the video's content, it's reasonable to assume that the name implies a comedic or entertaining nature, especially given the association with Disney and the artist's style."
   ]
  },
  {
   "cell_type": "markdown",
   "metadata": {},
   "source": [
    "I have a text splited in two differents parts separated by an union. The first one is a video name, and the second one is the artwork where the video comes from. I want you to extract the name of people who are involved in the text. Secondly i want you to tell me if the video title contains comic or not.\n",
    "\n",
    "format : \n",
    "\n",
    "List of people : -| |-\n",
    "Comic or not : -| |-\n",
    "\n",
    "video name : \"\"\"\n",
    "Le Barbecue Disney - La chanson de Frédéric Fromet\n",
    "\"\"\""
   ]
  },
  {
   "cell_type": "markdown",
   "metadata": {},
   "source": [
    "List of people:\n",
    "Frédéric Fromet\n",
    "\n",
    "Comic or not:\n",
    "Yes"
   ]
  },
  {
   "cell_type": "markdown",
   "metadata": {
    "tags": [
     "j"
    ]
   },
   "source": [
    "Same thing but with a différent video name \n",
    "\n",
    "video name : \"\"\"\n",
    "L'amour du lac - La chronique d'Hippolyte Girardot\n",
    "\"\"\""
   ]
  },
  {
   "cell_type": "markdown",
   "metadata": {},
   "source": [
    "List of people:\n",
    "Hippolyte Girardot\n",
    "\n",
    "Comic or not:\n",
    "No"
   ]
  },
  {
   "cell_type": "markdown",
   "metadata": {},
   "source": [
    "I have a text splited in two differents parts separated by an union. The first one is a video name, and the second one is the artwork where the video comes from. I want you to extract the name of people who are involved in the text. Secondly i want you to tell me if the video title contains comic or not.\n",
    "\n",
    "format : \n",
    "\n",
    "List of people : -| |-\n",
    "Comic or not : -| |-\n",
    "\n",
    "video name : \"\"\"\n",
    "Le Barbecue Disney - La chanson de Frédéric Fromet\n",
    "\"\"\""
   ]
  }
 ],
 "metadata": {
  "language_info": {
   "name": "python"
  }
 },
 "nbformat": 4,
 "nbformat_minor": 2
}
